{
 "cells": [
  {
   "cell_type": "markdown",
   "metadata": {},
   "source": [
    "# 基于历史指标预测股票涨跌幅\n",
    "\n",
    "## Baseline-v1.0 版\n",
    "\n",
    "Tip:这是一个最初始baseline版本,基于股票历史的收盘价、最高价、最低价、开盘价、前收盘、换手率、成交量、成交金额、总市值、流通市值预测股票的涨跌幅。\n",
    "\n",
    "**数据：网易财经**\n",
    "**股票：盛新锂能**\n",
    "\n",
    "地址：http://quotes.money.163.com/trade/lsjysj_002240.html?year=2021&season=3"
   ]
  },
  {
   "cell_type": "markdown",
   "metadata": {},
   "source": [
    "### Step 1:导入函数工具箱"
   ]
  },
  {
   "cell_type": "code",
   "execution_count": 88,
   "metadata": {},
   "outputs": [],
   "source": [
    "## 基础工具\n",
    "import numpy as np\n",
    "import pandas as pd\n",
    "import warnings\n",
    "import matplotlib\n",
    "import matplotlib.pyplot as plt\n",
    "import seaborn as sns\n",
    "from scipy.special import jn\n",
    "from IPython.display import display, clear_output\n",
    "import time\n",
    "\n",
    "warnings.filterwarnings('ignore')\n",
    "%matplotlib inline\n",
    "\n",
    "## 模型预测的\n",
    "import lightgbm as lgb\n",
    "import xgboost as xgb\n",
    "from sklearn import linear_model\n",
    "from sklearn import preprocessing\n",
    "from sklearn.svm import SVR\n",
    "from sklearn.ensemble import RandomForestRegressor,GradientBoostingRegressor\n",
    "\n",
    "## 数据降维处理的\n",
    "from sklearn.decomposition import PCA,FastICA,FactorAnalysis,SparsePCA\n",
    "\n",
    "\n",
    "## 参数搜索和评价的\n",
    "from sklearn.model_selection import GridSearchCV,cross_val_score,StratifiedKFold,train_test_split\n",
    "from sklearn.metrics import mean_squared_error, mean_absolute_error"
   ]
  },
  {
   "cell_type": "markdown",
   "metadata": {},
   "source": [
    "### Step 2:数据读取"
   ]
  },
  {
   "cell_type": "code",
   "execution_count": 89,
   "metadata": {},
   "outputs": [
    {
     "name": "stdout",
     "output_type": "stream",
     "text": [
      "Train data shape: (2800, 14)\n",
      "TestA data shape: (100, 13)\n"
     ]
    }
   ],
   "source": [
    "## 通过Pandas对于数据进行读取 \n",
    "\n",
    "data = pd.read_csv('002240.csv',encoding='gbk')\n",
    "data = data.drop(['股票代码','名称'],axis=1)\n",
    "data = data.drop(data[(data.涨跌额 == \"None\") | (data.次日涨跌幅 == \"None\")].index)\n",
    "\n",
    "data['涨跌额'] = data['涨跌额'].astype('float')\n",
    "data['涨跌幅'] = data['涨跌幅'].astype('float')\n",
    "data['次日涨跌幅'] = data['次日涨跌幅'].astype('float')\n",
    "Train_data = data[100:]\n",
    "TestA_data = data[0:100]\n",
    "test_result = TestA_data.copy()\n",
    "TestA_data = TestA_data.drop(['次日涨跌幅'],axis=1)\n",
    "\n",
    "\n",
    "## 输出数据的大小信息\n",
    "print('Train data shape:',Train_data.shape)\n",
    "print('TestA data shape:',TestA_data.shape)"
   ]
  },
  {
   "cell_type": "markdown",
   "metadata": {},
   "source": [
    "#### 1) 数据简要浏览"
   ]
  },
  {
   "cell_type": "code",
   "execution_count": 90,
   "metadata": {},
   "outputs": [
    {
     "data": {
      "text/html": [
       "<div>\n",
       "<style scoped>\n",
       "    .dataframe tbody tr th:only-of-type {\n",
       "        vertical-align: middle;\n",
       "    }\n",
       "\n",
       "    .dataframe tbody tr th {\n",
       "        vertical-align: top;\n",
       "    }\n",
       "\n",
       "    .dataframe thead th {\n",
       "        text-align: right;\n",
       "    }\n",
       "</style>\n",
       "<table border=\"1\" class=\"dataframe\">\n",
       "  <thead>\n",
       "    <tr style=\"text-align: right;\">\n",
       "      <th></th>\n",
       "      <th>日期</th>\n",
       "      <th>收盘价</th>\n",
       "      <th>最高价</th>\n",
       "      <th>最低价</th>\n",
       "      <th>开盘价</th>\n",
       "      <th>前收盘</th>\n",
       "      <th>换手率</th>\n",
       "      <th>成交量</th>\n",
       "      <th>成交金额</th>\n",
       "      <th>总市值</th>\n",
       "      <th>流通市值</th>\n",
       "      <th>涨跌额</th>\n",
       "      <th>涨跌幅</th>\n",
       "      <th>次日涨跌幅</th>\n",
       "    </tr>\n",
       "  </thead>\n",
       "  <tbody>\n",
       "    <tr>\n",
       "      <th>100</th>\n",
       "      <td>2021/3/11</td>\n",
       "      <td>20.80</td>\n",
       "      <td>21.09</td>\n",
       "      <td>19.80</td>\n",
       "      <td>20.40</td>\n",
       "      <td>20.14</td>\n",
       "      <td>3.4987</td>\n",
       "      <td>24363876</td>\n",
       "      <td>503196771.2</td>\n",
       "      <td>15593948406</td>\n",
       "      <td>1.448466e+10</td>\n",
       "      <td>0.66</td>\n",
       "      <td>3.2771</td>\n",
       "      <td>-0.9135</td>\n",
       "    </tr>\n",
       "    <tr>\n",
       "      <th>101</th>\n",
       "      <td>2021/3/10</td>\n",
       "      <td>20.14</td>\n",
       "      <td>20.97</td>\n",
       "      <td>20.00</td>\n",
       "      <td>20.88</td>\n",
       "      <td>20.07</td>\n",
       "      <td>2.9480</td>\n",
       "      <td>20528948</td>\n",
       "      <td>420917513.5</td>\n",
       "      <td>15099140428</td>\n",
       "      <td>1.402505e+10</td>\n",
       "      <td>0.07</td>\n",
       "      <td>0.3488</td>\n",
       "      <td>3.2771</td>\n",
       "    </tr>\n",
       "    <tr>\n",
       "      <th>102</th>\n",
       "      <td>2021/3/9</td>\n",
       "      <td>20.07</td>\n",
       "      <td>20.95</td>\n",
       "      <td>19.52</td>\n",
       "      <td>20.10</td>\n",
       "      <td>19.90</td>\n",
       "      <td>4.1146</td>\n",
       "      <td>28653351</td>\n",
       "      <td>580967881.6</td>\n",
       "      <td>15046660794</td>\n",
       "      <td>1.397630e+10</td>\n",
       "      <td>0.17</td>\n",
       "      <td>0.8543</td>\n",
       "      <td>0.3488</td>\n",
       "    </tr>\n",
       "    <tr>\n",
       "      <th>103</th>\n",
       "      <td>2021/3/8</td>\n",
       "      <td>19.90</td>\n",
       "      <td>21.71</td>\n",
       "      <td>19.90</td>\n",
       "      <td>21.50</td>\n",
       "      <td>21.52</td>\n",
       "      <td>3.6150</td>\n",
       "      <td>25174371</td>\n",
       "      <td>521641239.8</td>\n",
       "      <td>14919210254</td>\n",
       "      <td>1.385792e+10</td>\n",
       "      <td>-1.62</td>\n",
       "      <td>-7.5279</td>\n",
       "      <td>0.8543</td>\n",
       "    </tr>\n",
       "    <tr>\n",
       "      <th>104</th>\n",
       "      <td>2021/3/5</td>\n",
       "      <td>21.52</td>\n",
       "      <td>22.15</td>\n",
       "      <td>20.96</td>\n",
       "      <td>21.01</td>\n",
       "      <td>21.80</td>\n",
       "      <td>3.0580</td>\n",
       "      <td>21295470</td>\n",
       "      <td>461293384.0</td>\n",
       "      <td>16133738928</td>\n",
       "      <td>1.498605e+10</td>\n",
       "      <td>-0.28</td>\n",
       "      <td>-1.2844</td>\n",
       "      <td>-7.5279</td>\n",
       "    </tr>\n",
       "  </tbody>\n",
       "</table>\n",
       "</div>"
      ],
      "text/plain": [
       "            日期    收盘价    最高价    最低价    开盘价    前收盘     换手率       成交量  \\\n",
       "100  2021/3/11  20.80  21.09  19.80  20.40  20.14  3.4987  24363876   \n",
       "101  2021/3/10  20.14  20.97  20.00  20.88  20.07  2.9480  20528948   \n",
       "102   2021/3/9  20.07  20.95  19.52  20.10  19.90  4.1146  28653351   \n",
       "103   2021/3/8  19.90  21.71  19.90  21.50  21.52  3.6150  25174371   \n",
       "104   2021/3/5  21.52  22.15  20.96  21.01  21.80  3.0580  21295470   \n",
       "\n",
       "            成交金额          总市值          流通市值   涨跌额     涨跌幅   次日涨跌幅  \n",
       "100  503196771.2  15593948406  1.448466e+10  0.66  3.2771 -0.9135  \n",
       "101  420917513.5  15099140428  1.402505e+10  0.07  0.3488  3.2771  \n",
       "102  580967881.6  15046660794  1.397630e+10  0.17  0.8543  0.3488  \n",
       "103  521641239.8  14919210254  1.385792e+10 -1.62 -7.5279  0.8543  \n",
       "104  461293384.0  16133738928  1.498605e+10 -0.28 -1.2844 -7.5279  "
      ]
     },
     "execution_count": 90,
     "metadata": {},
     "output_type": "execute_result"
    }
   ],
   "source": [
    "## 通过.head() 简要浏览读取数据的形式\n",
    "Train_data.head()"
   ]
  },
  {
   "cell_type": "markdown",
   "metadata": {},
   "source": [
    "#### 2) 数据信息查看"
   ]
  },
  {
   "cell_type": "code",
   "execution_count": 91,
   "metadata": {},
   "outputs": [
    {
     "name": "stdout",
     "output_type": "stream",
     "text": [
      "<class 'pandas.core.frame.DataFrame'>\n",
      "Int64Index: 2900 entries, 0 to 3213\n",
      "Data columns (total 14 columns):\n",
      " #   Column  Non-Null Count  Dtype  \n",
      "---  ------  --------------  -----  \n",
      " 0   日期      2900 non-null   object \n",
      " 1   收盘价     2900 non-null   float64\n",
      " 2   最高价     2900 non-null   float64\n",
      " 3   最低价     2900 non-null   float64\n",
      " 4   开盘价     2900 non-null   float64\n",
      " 5   前收盘     2900 non-null   float64\n",
      " 6   换手率     2900 non-null   float64\n",
      " 7   成交量     2900 non-null   int64  \n",
      " 8   成交金额    2900 non-null   float64\n",
      " 9   总市值     2900 non-null   int64  \n",
      " 10  流通市值    2900 non-null   float64\n",
      " 11  涨跌额     2900 non-null   float64\n",
      " 12  涨跌幅     2900 non-null   float64\n",
      " 13  次日涨跌幅   2899 non-null   float64\n",
      "dtypes: float64(11), int64(2), object(1)\n",
      "memory usage: 339.8+ KB\n"
     ]
    }
   ],
   "source": [
    "## 通过 .info() 简要可以看到对应一些数据列名，以及NAN缺失信息\n",
    "data.info()"
   ]
  },
  {
   "cell_type": "code",
   "execution_count": 92,
   "metadata": {},
   "outputs": [
    {
     "data": {
      "text/plain": [
       "Index(['日期', '收盘价', '最高价', '最低价', '开盘价', '前收盘', '换手率', '成交量', '成交金额', '总市值',\n",
       "       '流通市值', '涨跌额', '涨跌幅', '次日涨跌幅'],\n",
       "      dtype='object')"
      ]
     },
     "execution_count": 92,
     "metadata": {},
     "output_type": "execute_result"
    }
   ],
   "source": [
    "## 通过 .columns 查看列名\n",
    "Train_data.columns"
   ]
  },
  {
   "cell_type": "code",
   "execution_count": 93,
   "metadata": {},
   "outputs": [
    {
     "name": "stdout",
     "output_type": "stream",
     "text": [
      "<class 'pandas.core.frame.DataFrame'>\n",
      "Int64Index: 100 entries, 0 to 99\n",
      "Data columns (total 13 columns):\n",
      " #   Column  Non-Null Count  Dtype  \n",
      "---  ------  --------------  -----  \n",
      " 0   日期      100 non-null    object \n",
      " 1   收盘价     100 non-null    float64\n",
      " 2   最高价     100 non-null    float64\n",
      " 3   最低价     100 non-null    float64\n",
      " 4   开盘价     100 non-null    float64\n",
      " 5   前收盘     100 non-null    float64\n",
      " 6   换手率     100 non-null    float64\n",
      " 7   成交量     100 non-null    int64  \n",
      " 8   成交金额    100 non-null    float64\n",
      " 9   总市值     100 non-null    int64  \n",
      " 10  流通市值    100 non-null    float64\n",
      " 11  涨跌额     100 non-null    float64\n",
      " 12  涨跌幅     100 non-null    float64\n",
      "dtypes: float64(10), int64(2), object(1)\n",
      "memory usage: 10.9+ KB\n"
     ]
    }
   ],
   "source": [
    "TestA_data.info()"
   ]
  },
  {
   "cell_type": "markdown",
   "metadata": {},
   "source": [
    "#### 3) 数据统计信息浏览"
   ]
  },
  {
   "cell_type": "code",
   "execution_count": 94,
   "metadata": {},
   "outputs": [
    {
     "data": {
      "text/html": [
       "<div>\n",
       "<style scoped>\n",
       "    .dataframe tbody tr th:only-of-type {\n",
       "        vertical-align: middle;\n",
       "    }\n",
       "\n",
       "    .dataframe tbody tr th {\n",
       "        vertical-align: top;\n",
       "    }\n",
       "\n",
       "    .dataframe thead th {\n",
       "        text-align: right;\n",
       "    }\n",
       "</style>\n",
       "<table border=\"1\" class=\"dataframe\">\n",
       "  <thead>\n",
       "    <tr style=\"text-align: right;\">\n",
       "      <th></th>\n",
       "      <th>收盘价</th>\n",
       "      <th>最高价</th>\n",
       "      <th>最低价</th>\n",
       "      <th>开盘价</th>\n",
       "      <th>前收盘</th>\n",
       "      <th>换手率</th>\n",
       "      <th>成交量</th>\n",
       "      <th>成交金额</th>\n",
       "      <th>总市值</th>\n",
       "      <th>流通市值</th>\n",
       "      <th>涨跌额</th>\n",
       "      <th>涨跌幅</th>\n",
       "      <th>次日涨跌幅</th>\n",
       "    </tr>\n",
       "  </thead>\n",
       "  <tbody>\n",
       "    <tr>\n",
       "      <th>count</th>\n",
       "      <td>2900.000000</td>\n",
       "      <td>2900.000000</td>\n",
       "      <td>2900.000000</td>\n",
       "      <td>2900.000000</td>\n",
       "      <td>2900.000000</td>\n",
       "      <td>2900.000000</td>\n",
       "      <td>2.900000e+03</td>\n",
       "      <td>2.900000e+03</td>\n",
       "      <td>2.900000e+03</td>\n",
       "      <td>2.900000e+03</td>\n",
       "      <td>2900.000000</td>\n",
       "      <td>2900.000000</td>\n",
       "      <td>2899.000000</td>\n",
       "    </tr>\n",
       "    <tr>\n",
       "      <th>mean</th>\n",
       "      <td>12.260531</td>\n",
       "      <td>12.561666</td>\n",
       "      <td>11.950262</td>\n",
       "      <td>12.232810</td>\n",
       "      <td>12.250569</td>\n",
       "      <td>3.460512</td>\n",
       "      <td>1.319820e+07</td>\n",
       "      <td>2.133017e+08</td>\n",
       "      <td>6.302168e+09</td>\n",
       "      <td>5.426801e+09</td>\n",
       "      <td>0.009962</td>\n",
       "      <td>0.102371</td>\n",
       "      <td>0.100211</td>\n",
       "    </tr>\n",
       "    <tr>\n",
       "      <th>std</th>\n",
       "      <td>6.650873</td>\n",
       "      <td>6.880214</td>\n",
       "      <td>6.408590</td>\n",
       "      <td>6.617835</td>\n",
       "      <td>6.628564</td>\n",
       "      <td>3.326979</td>\n",
       "      <td>1.497529e+07</td>\n",
       "      <td>3.889688e+08</td>\n",
       "      <td>4.838911e+09</td>\n",
       "      <td>4.834354e+09</td>\n",
       "      <td>0.552117</td>\n",
       "      <td>3.489053</td>\n",
       "      <td>3.425859</td>\n",
       "    </tr>\n",
       "    <tr>\n",
       "      <th>min</th>\n",
       "      <td>3.570000</td>\n",
       "      <td>3.610000</td>\n",
       "      <td>3.480000</td>\n",
       "      <td>3.530000</td>\n",
       "      <td>3.570000</td>\n",
       "      <td>0.056400</td>\n",
       "      <td>2.766200e+05</td>\n",
       "      <td>1.936340e+06</td>\n",
       "      <td>1.542651e+09</td>\n",
       "      <td>3.857507e+08</td>\n",
       "      <td>-4.440000</td>\n",
       "      <td>-10.035000</td>\n",
       "      <td>-10.035000</td>\n",
       "    </tr>\n",
       "    <tr>\n",
       "      <th>25%</th>\n",
       "      <td>8.090000</td>\n",
       "      <td>8.280000</td>\n",
       "      <td>7.900000</td>\n",
       "      <td>8.050000</td>\n",
       "      <td>8.080000</td>\n",
       "      <td>1.238075</td>\n",
       "      <td>3.829560e+06</td>\n",
       "      <td>3.306440e+07</td>\n",
       "      <td>3.038838e+09</td>\n",
       "      <td>1.830326e+09</td>\n",
       "      <td>-0.160000</td>\n",
       "      <td>-1.565325</td>\n",
       "      <td>-1.554550</td>\n",
       "    </tr>\n",
       "    <tr>\n",
       "      <th>50%</th>\n",
       "      <td>10.770000</td>\n",
       "      <td>10.955000</td>\n",
       "      <td>10.520000</td>\n",
       "      <td>10.710000</td>\n",
       "      <td>10.765000</td>\n",
       "      <td>2.486600</td>\n",
       "      <td>7.423458e+06</td>\n",
       "      <td>7.307249e+07</td>\n",
       "      <td>4.882505e+09</td>\n",
       "      <td>4.283846e+09</td>\n",
       "      <td>0.010000</td>\n",
       "      <td>0.138150</td>\n",
       "      <td>0.139300</td>\n",
       "    </tr>\n",
       "    <tr>\n",
       "      <th>75%</th>\n",
       "      <td>14.685000</td>\n",
       "      <td>14.990000</td>\n",
       "      <td>14.335000</td>\n",
       "      <td>14.672500</td>\n",
       "      <td>14.685000</td>\n",
       "      <td>4.622175</td>\n",
       "      <td>1.631157e+07</td>\n",
       "      <td>2.148071e+08</td>\n",
       "      <td>7.966691e+09</td>\n",
       "      <td>7.147104e+09</td>\n",
       "      <td>0.180000</td>\n",
       "      <td>1.794175</td>\n",
       "      <td>1.795750</td>\n",
       "    </tr>\n",
       "    <tr>\n",
       "      <th>max</th>\n",
       "      <td>51.200000</td>\n",
       "      <td>53.130000</td>\n",
       "      <td>49.840000</td>\n",
       "      <td>50.250000</td>\n",
       "      <td>51.200000</td>\n",
       "      <td>70.074400</td>\n",
       "      <td>1.319941e+08</td>\n",
       "      <td>4.423091e+09</td>\n",
       "      <td>3.838510e+10</td>\n",
       "      <td>3.565455e+10</td>\n",
       "      <td>4.740000</td>\n",
       "      <td>30.191100</td>\n",
       "      <td>10.095200</td>\n",
       "    </tr>\n",
       "  </tbody>\n",
       "</table>\n",
       "</div>"
      ],
      "text/plain": [
       "               收盘价          最高价          最低价          开盘价          前收盘  \\\n",
       "count  2900.000000  2900.000000  2900.000000  2900.000000  2900.000000   \n",
       "mean     12.260531    12.561666    11.950262    12.232810    12.250569   \n",
       "std       6.650873     6.880214     6.408590     6.617835     6.628564   \n",
       "min       3.570000     3.610000     3.480000     3.530000     3.570000   \n",
       "25%       8.090000     8.280000     7.900000     8.050000     8.080000   \n",
       "50%      10.770000    10.955000    10.520000    10.710000    10.765000   \n",
       "75%      14.685000    14.990000    14.335000    14.672500    14.685000   \n",
       "max      51.200000    53.130000    49.840000    50.250000    51.200000   \n",
       "\n",
       "               换手率           成交量          成交金额           总市值          流通市值  \\\n",
       "count  2900.000000  2.900000e+03  2.900000e+03  2.900000e+03  2.900000e+03   \n",
       "mean      3.460512  1.319820e+07  2.133017e+08  6.302168e+09  5.426801e+09   \n",
       "std       3.326979  1.497529e+07  3.889688e+08  4.838911e+09  4.834354e+09   \n",
       "min       0.056400  2.766200e+05  1.936340e+06  1.542651e+09  3.857507e+08   \n",
       "25%       1.238075  3.829560e+06  3.306440e+07  3.038838e+09  1.830326e+09   \n",
       "50%       2.486600  7.423458e+06  7.307249e+07  4.882505e+09  4.283846e+09   \n",
       "75%       4.622175  1.631157e+07  2.148071e+08  7.966691e+09  7.147104e+09   \n",
       "max      70.074400  1.319941e+08  4.423091e+09  3.838510e+10  3.565455e+10   \n",
       "\n",
       "               涨跌额          涨跌幅        次日涨跌幅  \n",
       "count  2900.000000  2900.000000  2899.000000  \n",
       "mean      0.009962     0.102371     0.100211  \n",
       "std       0.552117     3.489053     3.425859  \n",
       "min      -4.440000   -10.035000   -10.035000  \n",
       "25%      -0.160000    -1.565325    -1.554550  \n",
       "50%       0.010000     0.138150     0.139300  \n",
       "75%       0.180000     1.794175     1.795750  \n",
       "max       4.740000    30.191100    10.095200  "
      ]
     },
     "execution_count": 94,
     "metadata": {},
     "output_type": "execute_result"
    }
   ],
   "source": [
    "## 通过 .describe() 可以查看数值特征列的一些统计信息\n",
    "data.describe()"
   ]
  },
  {
   "cell_type": "code",
   "execution_count": 95,
   "metadata": {
    "scrolled": true
   },
   "outputs": [
    {
     "data": {
      "text/html": [
       "<div>\n",
       "<style scoped>\n",
       "    .dataframe tbody tr th:only-of-type {\n",
       "        vertical-align: middle;\n",
       "    }\n",
       "\n",
       "    .dataframe tbody tr th {\n",
       "        vertical-align: top;\n",
       "    }\n",
       "\n",
       "    .dataframe thead th {\n",
       "        text-align: right;\n",
       "    }\n",
       "</style>\n",
       "<table border=\"1\" class=\"dataframe\">\n",
       "  <thead>\n",
       "    <tr style=\"text-align: right;\">\n",
       "      <th></th>\n",
       "      <th>收盘价</th>\n",
       "      <th>最高价</th>\n",
       "      <th>最低价</th>\n",
       "      <th>开盘价</th>\n",
       "      <th>前收盘</th>\n",
       "      <th>换手率</th>\n",
       "      <th>成交量</th>\n",
       "      <th>成交金额</th>\n",
       "      <th>总市值</th>\n",
       "      <th>流通市值</th>\n",
       "      <th>涨跌额</th>\n",
       "      <th>涨跌幅</th>\n",
       "    </tr>\n",
       "  </thead>\n",
       "  <tbody>\n",
       "    <tr>\n",
       "      <th>count</th>\n",
       "      <td>100.000000</td>\n",
       "      <td>100.000000</td>\n",
       "      <td>100.000000</td>\n",
       "      <td>100.000000</td>\n",
       "      <td>100.000000</td>\n",
       "      <td>100.000000</td>\n",
       "      <td>1.000000e+02</td>\n",
       "      <td>1.000000e+02</td>\n",
       "      <td>1.000000e+02</td>\n",
       "      <td>1.000000e+02</td>\n",
       "      <td>100.000000</td>\n",
       "      <td>100.000000</td>\n",
       "    </tr>\n",
       "    <tr>\n",
       "      <th>mean</th>\n",
       "      <td>30.088100</td>\n",
       "      <td>31.099600</td>\n",
       "      <td>28.918200</td>\n",
       "      <td>29.816500</td>\n",
       "      <td>29.872300</td>\n",
       "      <td>6.039612</td>\n",
       "      <td>4.205853e+07</td>\n",
       "      <td>1.370580e+09</td>\n",
       "      <td>2.275169e+10</td>\n",
       "      <td>2.095269e+10</td>\n",
       "      <td>0.215800</td>\n",
       "      <td>0.815656</td>\n",
       "    </tr>\n",
       "    <tr>\n",
       "      <th>std</th>\n",
       "      <td>8.858219</td>\n",
       "      <td>9.442081</td>\n",
       "      <td>8.296731</td>\n",
       "      <td>8.825543</td>\n",
       "      <td>8.818516</td>\n",
       "      <td>2.617850</td>\n",
       "      <td>1.823010e+07</td>\n",
       "      <td>9.241444e+08</td>\n",
       "      <td>6.975966e+09</td>\n",
       "      <td>6.168668e+09</td>\n",
       "      <td>1.520926</td>\n",
       "      <td>4.537579</td>\n",
       "    </tr>\n",
       "    <tr>\n",
       "      <th>min</th>\n",
       "      <td>19.380000</td>\n",
       "      <td>20.280000</td>\n",
       "      <td>19.300000</td>\n",
       "      <td>19.480000</td>\n",
       "      <td>19.380000</td>\n",
       "      <td>2.074300</td>\n",
       "      <td>1.444507e+07</td>\n",
       "      <td>2.938891e+08</td>\n",
       "      <td>1.452936e+10</td>\n",
       "      <td>1.349580e+10</td>\n",
       "      <td>-4.440000</td>\n",
       "      <td>-10.011000</td>\n",
       "    </tr>\n",
       "    <tr>\n",
       "      <th>25%</th>\n",
       "      <td>22.735000</td>\n",
       "      <td>22.960000</td>\n",
       "      <td>21.812500</td>\n",
       "      <td>22.132500</td>\n",
       "      <td>22.367500</td>\n",
       "      <td>4.039925</td>\n",
       "      <td>2.813332e+07</td>\n",
       "      <td>7.083990e+08</td>\n",
       "      <td>1.704464e+10</td>\n",
       "      <td>1.583215e+10</td>\n",
       "      <td>-0.345000</td>\n",
       "      <td>-1.261150</td>\n",
       "    </tr>\n",
       "    <tr>\n",
       "      <th>50%</th>\n",
       "      <td>28.360000</td>\n",
       "      <td>29.095000</td>\n",
       "      <td>27.650000</td>\n",
       "      <td>28.050000</td>\n",
       "      <td>28.260000</td>\n",
       "      <td>5.389400</td>\n",
       "      <td>3.753064e+07</td>\n",
       "      <td>1.066955e+09</td>\n",
       "      <td>2.126175e+10</td>\n",
       "      <td>1.974928e+10</td>\n",
       "      <td>0.140000</td>\n",
       "      <td>0.453350</td>\n",
       "    </tr>\n",
       "    <tr>\n",
       "      <th>75%</th>\n",
       "      <td>32.617500</td>\n",
       "      <td>33.580000</td>\n",
       "      <td>30.825000</td>\n",
       "      <td>32.382500</td>\n",
       "      <td>32.320000</td>\n",
       "      <td>7.594775</td>\n",
       "      <td>5.288839e+07</td>\n",
       "      <td>1.855273e+09</td>\n",
       "      <td>2.445364e+10</td>\n",
       "      <td>2.271411e+10</td>\n",
       "      <td>0.952500</td>\n",
       "      <td>3.300625</td>\n",
       "    </tr>\n",
       "    <tr>\n",
       "      <th>max</th>\n",
       "      <td>51.200000</td>\n",
       "      <td>53.130000</td>\n",
       "      <td>49.840000</td>\n",
       "      <td>50.250000</td>\n",
       "      <td>51.200000</td>\n",
       "      <td>13.893700</td>\n",
       "      <td>9.675249e+07</td>\n",
       "      <td>4.423091e+09</td>\n",
       "      <td>3.838510e+10</td>\n",
       "      <td>3.565455e+10</td>\n",
       "      <td>4.500000</td>\n",
       "      <td>10.013000</td>\n",
       "    </tr>\n",
       "  </tbody>\n",
       "</table>\n",
       "</div>"
      ],
      "text/plain": [
       "              收盘价         最高价         最低价         开盘价         前收盘         换手率  \\\n",
       "count  100.000000  100.000000  100.000000  100.000000  100.000000  100.000000   \n",
       "mean    30.088100   31.099600   28.918200   29.816500   29.872300    6.039612   \n",
       "std      8.858219    9.442081    8.296731    8.825543    8.818516    2.617850   \n",
       "min     19.380000   20.280000   19.300000   19.480000   19.380000    2.074300   \n",
       "25%     22.735000   22.960000   21.812500   22.132500   22.367500    4.039925   \n",
       "50%     28.360000   29.095000   27.650000   28.050000   28.260000    5.389400   \n",
       "75%     32.617500   33.580000   30.825000   32.382500   32.320000    7.594775   \n",
       "max     51.200000   53.130000   49.840000   50.250000   51.200000   13.893700   \n",
       "\n",
       "                成交量          成交金额           总市值          流通市值         涨跌额  \\\n",
       "count  1.000000e+02  1.000000e+02  1.000000e+02  1.000000e+02  100.000000   \n",
       "mean   4.205853e+07  1.370580e+09  2.275169e+10  2.095269e+10    0.215800   \n",
       "std    1.823010e+07  9.241444e+08  6.975966e+09  6.168668e+09    1.520926   \n",
       "min    1.444507e+07  2.938891e+08  1.452936e+10  1.349580e+10   -4.440000   \n",
       "25%    2.813332e+07  7.083990e+08  1.704464e+10  1.583215e+10   -0.345000   \n",
       "50%    3.753064e+07  1.066955e+09  2.126175e+10  1.974928e+10    0.140000   \n",
       "75%    5.288839e+07  1.855273e+09  2.445364e+10  2.271411e+10    0.952500   \n",
       "max    9.675249e+07  4.423091e+09  3.838510e+10  3.565455e+10    4.500000   \n",
       "\n",
       "              涨跌幅  \n",
       "count  100.000000  \n",
       "mean     0.815656  \n",
       "std      4.537579  \n",
       "min    -10.011000  \n",
       "25%     -1.261150  \n",
       "50%      0.453350  \n",
       "75%      3.300625  \n",
       "max     10.013000  "
      ]
     },
     "execution_count": 95,
     "metadata": {},
     "output_type": "execute_result"
    }
   ],
   "source": [
    "TestA_data.describe()"
   ]
  },
  {
   "cell_type": "code",
   "execution_count": 96,
   "metadata": {},
   "outputs": [],
   "source": [
    "# import pandas_profiling\n",
    "\n",
    "# pfr = pandas_profiling.ProfileReport(data)\n",
    "# pfr.to_file(\"./example.html\")"
   ]
  },
  {
   "cell_type": "markdown",
   "metadata": {},
   "source": [
    "### Step 3:特征与标签构建"
   ]
  },
  {
   "cell_type": "markdown",
   "metadata": {},
   "source": [
    "#### 1) 提取数值类型和类别特征列名"
   ]
  },
  {
   "cell_type": "code",
   "execution_count": 97,
   "metadata": {},
   "outputs": [
    {
     "name": "stdout",
     "output_type": "stream",
     "text": [
      "Index(['收盘价', '最高价', '最低价', '开盘价', '前收盘', '换手率', '成交量', '成交金额', '总市值', '流通市值',\n",
      "       '涨跌额', '涨跌幅', '次日涨跌幅'],\n",
      "      dtype='object')\n",
      "Index(['日期'], dtype='object')\n"
     ]
    }
   ],
   "source": [
    "numerical_cols = Train_data.select_dtypes(exclude = 'object').columns\n",
    "print(numerical_cols)\n",
    "categorical_cols = Train_data.select_dtypes(include = 'object').columns\n",
    "print(categorical_cols)"
   ]
  },
  {
   "cell_type": "markdown",
   "metadata": {},
   "source": [
    "#### 2) 构建训练和测试样本"
   ]
  },
  {
   "cell_type": "code",
   "execution_count": 98,
   "metadata": {},
   "outputs": [
    {
     "name": "stdout",
     "output_type": "stream",
     "text": [
      "X train shape: (2800, 12)\n",
      "X test shape: (100, 12)\n"
     ]
    }
   ],
   "source": [
    "## 选择特征列\n",
    "# feature_cols = [col for col in numerical_cols if col not in ['SaleID','name','regDate','creatDate','price','model','brand','regionCode','seller']]\n",
    "# feature_cols = [col for col in feature_cols if 'Type' not in col]\n",
    "\n",
    "# feature_cols = ['日期','收盘价', '最高价', '最低价', '开盘价', '前收盘', '换手率', '成交量', '成交金额', '总市值', '流通市值',\n",
    "#        '涨跌额', '涨跌幅']\n",
    "\n",
    "feature_cols = ['收盘价', '最高价', '最低价', '开盘价', '前收盘', '换手率', '成交量', '成交金额', '总市值', '流通市值',\n",
    "       '涨跌额', '涨跌幅']\n",
    "\n",
    "## 提前特征列，标签列构造训练样本和测试样本\n",
    "X_data = Train_data[feature_cols]\n",
    "Y_data = Train_data['次日涨跌幅']\n",
    "\n",
    "X_test  = TestA_data[feature_cols]\n",
    "\n",
    "print('X train shape:',X_data.shape)\n",
    "print('X test shape:',X_test.shape)"
   ]
  },
  {
   "cell_type": "code",
   "execution_count": 99,
   "metadata": {},
   "outputs": [],
   "source": [
    "## 定义了一个统计函数，方便后续信息统计\n",
    "def Sta_inf(data):\n",
    "    print('_min',np.min(data))\n",
    "    print('_max:',np.max(data))\n",
    "    print('_mean',np.mean(data))\n",
    "    print('_ptp',np.ptp(data))\n",
    "    print('_std',np.std(data))\n",
    "    print('_var',np.var(data))"
   ]
  },
  {
   "cell_type": "markdown",
   "metadata": {},
   "source": [
    "#### 3) 统计标签的基本分布信息"
   ]
  },
  {
   "cell_type": "code",
   "execution_count": 100,
   "metadata": {},
   "outputs": [
    {
     "name": "stdout",
     "output_type": "stream",
     "text": [
      "Sta of label:\n",
      "_min -10.035\n",
      "_max: 10.0952\n",
      "_mean 0.07429764285714266\n",
      "_ptp 20.130200000000002\n",
      "_std 3.3764940060599424\n",
      "_var 11.400711772958719\n"
     ]
    }
   ],
   "source": [
    "print('Sta of label:')\n",
    "Sta_inf(Y_data)\n"
   ]
  },
  {
   "cell_type": "code",
   "execution_count": 101,
   "metadata": {},
   "outputs": [
    {
     "data": {
      "image/png": "[encoded data removed]",
      "text/plain": [
       "<Figure size 432x288 with 1 Axes>"
      ]
     },
     "metadata": {
      "needs_background": "light"
     },
     "output_type": "display_data"
    }
   ],
   "source": [
    "## 绘制标签的统计图，查看标签分布\n",
    "plt.hist(Y_data)\n",
    "plt.show()\n",
    "plt.close()\n"
   ]
  },
  {
   "cell_type": "markdown",
   "metadata": {},
   "source": [
    "#### 4) 缺省值用-1填补"
   ]
  },
  {
   "cell_type": "code",
   "execution_count": 102,
   "metadata": {},
   "outputs": [],
   "source": [
    "X_data = X_data.fillna(-1)\n",
    "X_test = X_test.fillna(-1)"
   ]
  },
  {
   "cell_type": "markdown",
   "metadata": {},
   "source": [
    "### Step 4:模型训练与预测"
   ]
  },
  {
   "cell_type": "markdown",
   "metadata": {},
   "source": [
    "#### 1) 利用xgb进行五折交叉验证查看模型的参数效果"
   ]
  },
  {
   "cell_type": "code",
   "execution_count": 103,
   "metadata": {},
   "outputs": [],
   "source": [
    "# ## xgb-Model\n",
    "# xgr = xgb.XGBRegressor(n_estimators=120, learning_rate=0.1, gamma=0, subsample=0.8,\\\n",
    "#         colsample_bytree=0.9, max_depth=7) #,objective ='reg:squarederror'\n",
    "\n",
    "# scores_train = []\n",
    "# scores = []\n",
    "\n",
    "# ## 5折交叉验证方式\n",
    "# sk=StratifiedKFold(n_splits=5,shuffle=True,random_state=0)\n",
    "# print(X_data.dtypes)\n",
    "# print(Y_data.dtypes)\n",
    "# for train_ind,val_ind in sk.split(X_data,Y_data):\n",
    "    \n",
    "#     train_x=X_data.iloc[train_ind].values\n",
    "#     train_y=Y_data.iloc[train_ind]\n",
    "#     val_x=X_data.iloc[val_ind].values\n",
    "#     val_y=Y_data.iloc[val_ind]\n",
    "    \n",
    "#     xgr.fit(train_x,train_y)\n",
    "#     pred_train_xgb=xgr.predict(train_x)\n",
    "#     pred_xgb=xgr.predict(val_x)\n",
    "    \n",
    "#     score_train = mean_absolute_error(train_y,pred_train_xgb)\n",
    "#     scores_train.append(score_train)\n",
    "#     score = mean_absolute_error(val_y,pred_xgb)\n",
    "#     scores.append(score)\n",
    "\n",
    "# print('Train mae:',np.mean(score_train))\n",
    "# print('Val mae',np.mean(scores))"
   ]
  },
  {
   "cell_type": "markdown",
   "metadata": {},
   "source": [
    "#### 2） 定义xgb和lgb模型函数"
   ]
  },
  {
   "cell_type": "code",
   "execution_count": 104,
   "metadata": {},
   "outputs": [],
   "source": [
    "def build_model_xgb(x_train,y_train):\n",
    "    model = xgb.XGBRegressor(n_estimators=150, learning_rate=0.1, gamma=0, subsample=0.8,\\\n",
    "        colsample_bytree=0.9, max_depth=7) #, objective ='reg:squarederror'\n",
    "    model.fit(x_train, y_train)\n",
    "    return model\n",
    "\n",
    "def build_model_lgb(x_train,y_train):\n",
    "    estimator = lgb.LGBMRegressor(num_leaves=127,n_estimators = 150)\n",
    "    param_grid = {\n",
    "        'learning_rate': [0.01, 0.05, 0.1, 0.2],\n",
    "    }\n",
    "    gbm = GridSearchCV(estimator, param_grid)\n",
    "    gbm.fit(x_train, y_train)\n",
    "    return gbm"
   ]
  },
  {
   "cell_type": "markdown",
   "metadata": {},
   "source": [
    "#### 3）切分数据集（Train,Val）进行模型训练，评价和预测"
   ]
  },
  {
   "cell_type": "code",
   "execution_count": 105,
   "metadata": {},
   "outputs": [],
   "source": [
    "## Split data with val\n",
    "x_train,x_val,y_train,y_val = train_test_split(X_data,Y_data,test_size=0.3)"
   ]
  },
  {
   "cell_type": "code",
   "execution_count": 108,
   "metadata": {},
   "outputs": [
    {
     "name": "stdout",
     "output_type": "stream",
     "text": [
      "Train lgb...\n",
      "MAE of val with lgb: 2.449085229357331\n",
      "Predict lgb...\n",
      "Sta of Predict lgb:\n",
      "_min -2.723364200977184\n",
      "_max: 2.2046808851243536\n",
      "_mean -1.208441951835868\n",
      "_ptp 4.9280450861015375\n",
      "_std 1.3892499041867548\n",
      "_var 1.9300152962829071\n"
     ]
    }
   ],
   "source": [
    "print('Train lgb...')\n",
    "model_lgb = build_model_lgb(x_train,y_train)\n",
    "val_lgb = model_lgb.predict(x_val)\n",
    "MAE_lgb = mean_absolute_error(y_val,val_lgb)\n",
    "print('MAE of val with lgb:',MAE_lgb)\n",
    "\n",
    "print('Predict lgb...')\n",
    "model_lgb_pre = build_model_lgb(X_data,Y_data)\n",
    "subA_lgb = model_lgb_pre.predict(X_test)\n",
    "print('Sta of Predict lgb:')\n",
    "Sta_inf(subA_lgb)\n",
    "\n"
   ]
  },
  {
   "cell_type": "code",
   "execution_count": 109,
   "metadata": {},
   "outputs": [
    {
     "name": "stdout",
     "output_type": "stream",
     "text": [
      "Train xgb...\n",
      "MAE of val with xgb: 2.6124433991237463\n",
      "Predict xgb...\n",
      "Sta of Predict xgb:\n",
      "_min -7.738511\n",
      "_max: 5.4021134\n",
      "_mean -1.4871407\n",
      "_ptp 13.140625\n",
      "_std 2.6406853\n",
      "_var 6.973219\n"
     ]
    }
   ],
   "source": [
    "print('Train xgb...')\n",
    "model_xgb = build_model_xgb(x_train,y_train)\n",
    "val_xgb = model_xgb.predict(x_val)\n",
    "MAE_xgb = mean_absolute_error(y_val,val_xgb)\n",
    "print('MAE of val with xgb:',MAE_xgb)\n",
    "\n",
    "print('Predict xgb...')\n",
    "model_xgb_pre = build_model_xgb(X_data,Y_data)\n",
    "subA_xgb = model_xgb_pre.predict(X_test)\n",
    "print('Sta of Predict xgb:')\n",
    "Sta_inf(subA_xgb)\n",
    "\n",
    "test_result['预测涨跌幅'] = subA_xgb\n",
    "test_result.to_csv('./result.csv',encoding='gbk')"
   ]
  },
  {
   "cell_type": "markdown",
   "metadata": {},
   "source": [
    "#### 4）进行两模型的结果加权融合"
   ]
  },
  {
   "cell_type": "code",
   "execution_count": 84,
   "metadata": {},
   "outputs": [
    {
     "name": "stdout",
     "output_type": "stream",
     "text": [
      "MAE of val with Weighted ensemble: 6.02636627420805\n"
     ]
    }
   ],
   "source": [
    "## 这里我们采取了简单的加权融合的方式\n",
    "val_Weighted = (1-MAE_lgb/(MAE_xgb+MAE_lgb))*val_lgb+(1-MAE_xgb/(MAE_xgb+MAE_lgb))*val_xgb\n",
    "val_Weighted[val_Weighted<0]=10 # 由于我们发现预测的最小值有负数，而真实情况下，price为负是不存在的，由此我们进行对应的后修正\n",
    "print('MAE of val with Weighted ensemble:',mean_absolute_error(y_val,val_Weighted))"
   ]
  },
  {
   "cell_type": "code",
   "execution_count": 85,
   "metadata": {},
   "outputs": [
    {
     "data": {
      "image/png": "[encoded data removed]",
      "text/plain": [
       "<Figure size 432x288 with 1 Axes>"
      ]
     },
     "metadata": {
      "needs_background": "light"
     },
     "output_type": "display_data"
    }
   ],
   "source": [
    "sub_Weighted = (1-MAE_lgb/(MAE_xgb+MAE_lgb))*subA_lgb+(1-MAE_xgb/(MAE_xgb+MAE_lgb))*subA_xgb\n",
    "\n",
    "## 查看预测值的统计情况\n",
    "plt.hist(sub_Weighted)\n",
    "plt.show()\n",
    "plt.close()"
   ]
  },
  {
   "cell_type": "markdown",
   "metadata": {},
   "source": [
    "#### 5）输出结果"
   ]
  },
  {
   "cell_type": "code",
   "execution_count": 40,
   "metadata": {},
   "outputs": [],
   "source": [
    "sub = pd.DataFrame()\n",
    "sub['SaleID'] = TestA_data.SaleID\n",
    "sub['price'] = sub_Weighted\n",
    "sub.to_csv('./sub_Weighted.csv',index=False)"
   ]
  },
  {
   "cell_type": "code",
   "execution_count": 41,
   "metadata": {},
   "outputs": [
    {
     "data": {
      "text/html": [
       "<div>\n",
       "<style scoped>\n",
       "    .dataframe tbody tr th:only-of-type {\n",
       "        vertical-align: middle;\n",
       "    }\n",
       "\n",
       "    .dataframe tbody tr th {\n",
       "        vertical-align: top;\n",
       "    }\n",
       "\n",
       "    .dataframe thead th {\n",
       "        text-align: right;\n",
       "    }\n",
       "</style>\n",
       "<table border=\"1\" class=\"dataframe\">\n",
       "  <thead>\n",
       "    <tr style=\"text-align: right;\">\n",
       "      <th></th>\n",
       "      <th>SaleID</th>\n",
       "      <th>price</th>\n",
       "    </tr>\n",
       "  </thead>\n",
       "  <tbody>\n",
       "    <tr>\n",
       "      <th>0</th>\n",
       "      <td>200000</td>\n",
       "      <td>1177.411350</td>\n",
       "    </tr>\n",
       "    <tr>\n",
       "      <th>1</th>\n",
       "      <td>200001</td>\n",
       "      <td>1806.533808</td>\n",
       "    </tr>\n",
       "    <tr>\n",
       "      <th>2</th>\n",
       "      <td>200002</td>\n",
       "      <td>8560.360662</td>\n",
       "    </tr>\n",
       "    <tr>\n",
       "      <th>3</th>\n",
       "      <td>200003</td>\n",
       "      <td>1346.399612</td>\n",
       "    </tr>\n",
       "    <tr>\n",
       "      <th>4</th>\n",
       "      <td>200004</td>\n",
       "      <td>2074.420147</td>\n",
       "    </tr>\n",
       "  </tbody>\n",
       "</table>\n",
       "</div>"
      ],
      "text/plain": [
       "   SaleID        price\n",
       "0  200000  1177.411350\n",
       "1  200001  1806.533808\n",
       "2  200002  8560.360662\n",
       "3  200003  1346.399612\n",
       "4  200004  2074.420147"
      ]
     },
     "execution_count": 41,
     "metadata": {},
     "output_type": "execute_result"
    }
   ],
   "source": [
    "sub.head()"
   ]
  },
  {
   "cell_type": "code",
   "execution_count": null,
   "metadata": {},
   "outputs": [],
   "source": []
  }
 ],
 "metadata": {
  "kernelspec": {
   "display_name": "Python 3",
   "language": "python",
   "name": "python3"
  },
  "language_info": {
   "codemirror_mode": {
    "name": "ipython",
    "version": 3
   },
   "file_extension": ".py",
   "mimetype": "text/x-python",
   "name": "python",
   "nbconvert_exporter": "python",
   "pygments_lexer": "ipython3",
   "version": "3.7.4"
  }
 },
 "nbformat": 4,
 "nbformat_minor": 2
}
