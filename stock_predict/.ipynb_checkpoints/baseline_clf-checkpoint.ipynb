{
 "cells": [
  {
   "cell_type": "markdown",
   "metadata": {},
   "source": [
    "# 基于历史指标预测股票涨跌幅\n",
    "\n",
    "## Baseline-v1.0 版\n",
    "\n",
    "Tip:这是一个最初始baseline版本,基于股票历史的收盘价、最高价、最低价、开盘价、前收盘、换手率、成交量、成交金额、总市值、流通市值预测股票的涨跌幅。\n",
    "\n",
    "**数据：网易财经**\n",
    "**股票：盛新锂能**\n",
    "\n",
    "地址：http://quotes.money.163.com/trade/lsjysj_002240.html?year=2021&season=3"
   ]
  },
  {
   "cell_type": "markdown",
   "metadata": {},
   "source": [
    "### Step 1:导入函数工具箱"
   ]
  },
  {
   "cell_type": "code",
   "execution_count": 59,
   "metadata": {},
   "outputs": [],
   "source": [
    "## 基础工具\n",
    "import numpy as np\n",
    "import pandas as pd\n",
    "import warnings\n",
    "import matplotlib\n",
    "import matplotlib.pyplot as plt\n",
    "import seaborn as sns\n",
    "from scipy.special import jn\n",
    "from IPython.display import display, clear_output\n",
    "import time\n",
    "\n",
    "warnings.filterwarnings('ignore')\n",
    "%matplotlib inline\n",
    "\n",
    "## 模型预测的\n",
    "import lightgbm as lgb\n",
    "import xgboost as xgb\n",
    "from sklearn import linear_model\n",
    "from sklearn import preprocessing\n",
    "from sklearn.svm import SVR\n",
    "from sklearn.ensemble import RandomForestRegressor,GradientBoostingRegressor\n",
    "\n",
    "## 数据降维处理的\n",
    "from sklearn.decomposition import PCA,FastICA,FactorAnalysis,SparsePCA\n",
    "\n",
    "\n",
    "## 参数搜索和评价的\n",
    "from sklearn.model_selection import GridSearchCV,cross_val_score,StratifiedKFold,train_test_split\n",
    "from sklearn.metrics import mean_squared_error, mean_absolute_error, accuracy_score"
   ]
  },
  {
   "cell_type": "markdown",
   "metadata": {},
   "source": [
    "### Step 2:数据读取"
   ]
  },
  {
   "cell_type": "code",
   "execution_count": 86,
   "metadata": {},
   "outputs": [
    {
     "name": "stdout",
     "output_type": "stream",
     "text": [
      "Train data shape: (1749, 14)\n",
      "TestA data shape: (100, 13)\n"
     ]
    }
   ],
   "source": [
    "## 通过Pandas对于数据进行读取 \n",
    "\n",
    "data = pd.read_csv('600660.csv',encoding='gbk')\n",
    "data = data.drop(['股票代码','名称'],axis=1)\n",
    "data = data.drop(data[(data.涨跌额 == \"None\") | (data.次日涨跌 == \"None\")].index)\n",
    "\n",
    "data['涨跌额'] = data['涨跌额'].astype('float')\n",
    "data['涨跌幅'] = data['涨跌幅'].astype('float')\n",
    "data['次日涨跌'] = data['次日涨跌'].astype('float')\n",
    "data['次日涨跌'] = np.where(data['次日涨跌'] > 0,1,0)\n",
    "Train_data = data[100:]\n",
    "TestA_data = data[0:100]\n",
    "test_result = TestA_data.copy()\n",
    "TestA_data = TestA_data.drop(['次日涨跌'],axis=1)\n",
    "\n",
    "\n",
    "## 输出数据的大小信息\n",
    "print('Train data shape:',Train_data.shape)\n",
    "print('TestA data shape:',TestA_data.shape)"
   ]
  },
  {
   "cell_type": "markdown",
   "metadata": {},
   "source": [
    "#### 1) 数据简要浏览"
   ]
  },
  {
   "cell_type": "code",
   "execution_count": 87,
   "metadata": {},
   "outputs": [
    {
     "data": {
      "text/html": [
       "<div>\n",
       "<style scoped>\n",
       "    .dataframe tbody tr th:only-of-type {\n",
       "        vertical-align: middle;\n",
       "    }\n",
       "\n",
       "    .dataframe tbody tr th {\n",
       "        vertical-align: top;\n",
       "    }\n",
       "\n",
       "    .dataframe thead th {\n",
       "        text-align: right;\n",
       "    }\n",
       "</style>\n",
       "<table border=\"1\" class=\"dataframe\">\n",
       "  <thead>\n",
       "    <tr style=\"text-align: right;\">\n",
       "      <th></th>\n",
       "      <th>日期</th>\n",
       "      <th>收盘价</th>\n",
       "      <th>最高价</th>\n",
       "      <th>最低价</th>\n",
       "      <th>开盘价</th>\n",
       "      <th>前收盘</th>\n",
       "      <th>换手率</th>\n",
       "      <th>成交量</th>\n",
       "      <th>成交金额</th>\n",
       "      <th>总市值</th>\n",
       "      <th>流通市值</th>\n",
       "      <th>涨跌额</th>\n",
       "      <th>涨跌幅</th>\n",
       "      <th>次日涨跌</th>\n",
       "    </tr>\n",
       "  </thead>\n",
       "  <tbody>\n",
       "    <tr>\n",
       "      <th>1914</th>\n",
       "      <td>2013/9/26</td>\n",
       "      <td>43.00</td>\n",
       "      <td>45.07</td>\n",
       "      <td>42.45</td>\n",
       "      <td>44.65</td>\n",
       "      <td>45.05</td>\n",
       "      <td>2.1391</td>\n",
       "      <td>14680801</td>\n",
       "      <td>6.400348e+08</td>\n",
       "      <td>7.251191e+10</td>\n",
       "      <td>2.951167e+10</td>\n",
       "      <td>-2.05</td>\n",
       "      <td>-4.5505</td>\n",
       "      <td>0</td>\n",
       "    </tr>\n",
       "    <tr>\n",
       "      <th>1915</th>\n",
       "      <td>2013/9/25</td>\n",
       "      <td>45.05</td>\n",
       "      <td>47.14</td>\n",
       "      <td>44.00</td>\n",
       "      <td>44.01</td>\n",
       "      <td>44.61</td>\n",
       "      <td>2.5010</td>\n",
       "      <td>17165136</td>\n",
       "      <td>7.817872e+08</td>\n",
       "      <td>7.596887e+10</td>\n",
       "      <td>3.091862e+10</td>\n",
       "      <td>0.44</td>\n",
       "      <td>0.9863</td>\n",
       "      <td>0</td>\n",
       "    </tr>\n",
       "    <tr>\n",
       "      <th>1916</th>\n",
       "      <td>2013/9/24</td>\n",
       "      <td>44.61</td>\n",
       "      <td>46.15</td>\n",
       "      <td>44.40</td>\n",
       "      <td>45.49</td>\n",
       "      <td>46.20</td>\n",
       "      <td>2.9148</td>\n",
       "      <td>20004514</td>\n",
       "      <td>9.015063e+08</td>\n",
       "      <td>7.522689e+10</td>\n",
       "      <td>3.061664e+10</td>\n",
       "      <td>-1.59</td>\n",
       "      <td>-3.4416</td>\n",
       "      <td>1</td>\n",
       "    </tr>\n",
       "    <tr>\n",
       "      <th>1917</th>\n",
       "      <td>2013/9/23</td>\n",
       "      <td>46.20</td>\n",
       "      <td>46.46</td>\n",
       "      <td>40.67</td>\n",
       "      <td>41.90</td>\n",
       "      <td>42.24</td>\n",
       "      <td>4.6409</td>\n",
       "      <td>31851606</td>\n",
       "      <td>1.406018e+09</td>\n",
       "      <td>7.790814e+10</td>\n",
       "      <td>3.170789e+10</td>\n",
       "      <td>3.96</td>\n",
       "      <td>9.3750</td>\n",
       "      <td>0</td>\n",
       "    </tr>\n",
       "    <tr>\n",
       "      <th>1918</th>\n",
       "      <td>2013/9/18</td>\n",
       "      <td>42.24</td>\n",
       "      <td>46.40</td>\n",
       "      <td>39.88</td>\n",
       "      <td>40.50</td>\n",
       "      <td>44.56</td>\n",
       "      <td>5.6664</td>\n",
       "      <td>38889754</td>\n",
       "      <td>1.681303e+09</td>\n",
       "      <td>7.123030e+10</td>\n",
       "      <td>2.899007e+10</td>\n",
       "      <td>-2.32</td>\n",
       "      <td>-5.2065</td>\n",
       "      <td>1</td>\n",
       "    </tr>\n",
       "  </tbody>\n",
       "</table>\n",
       "</div>"
      ],
      "text/plain": [
       "             日期    收盘价    最高价    最低价    开盘价    前收盘     换手率       成交量  \\\n",
       "1914  2013/9/26  43.00  45.07  42.45  44.65  45.05  2.1391  14680801   \n",
       "1915  2013/9/25  45.05  47.14  44.00  44.01  44.61  2.5010  17165136   \n",
       "1916  2013/9/24  44.61  46.15  44.40  45.49  46.20  2.9148  20004514   \n",
       "1917  2013/9/23  46.20  46.46  40.67  41.90  42.24  4.6409  31851606   \n",
       "1918  2013/9/18  42.24  46.40  39.88  40.50  44.56  5.6664  38889754   \n",
       "\n",
       "              成交金额           总市值          流通市值   涨跌额     涨跌幅  次日涨跌  \n",
       "1914  6.400348e+08  7.251191e+10  2.951167e+10 -2.05 -4.5505     0  \n",
       "1915  7.817872e+08  7.596887e+10  3.091862e+10  0.44  0.9863     0  \n",
       "1916  9.015063e+08  7.522689e+10  3.061664e+10 -1.59 -3.4416     1  \n",
       "1917  1.406018e+09  7.790814e+10  3.170789e+10  3.96  9.3750     0  \n",
       "1918  1.681303e+09  7.123030e+10  2.899007e+10 -2.32 -5.2065     1  "
      ]
     },
     "execution_count": 87,
     "metadata": {},
     "output_type": "execute_result"
    }
   ],
   "source": [
    "## 通过.head() 简要浏览读取数据的形式\n",
    "data.tail()"
   ]
  },
  {
   "cell_type": "markdown",
   "metadata": {},
   "source": [
    "#### 2) 数据信息查看"
   ]
  },
  {
   "cell_type": "code",
   "execution_count": 88,
   "metadata": {},
   "outputs": [
    {
     "name": "stdout",
     "output_type": "stream",
     "text": [
      "<class 'pandas.core.frame.DataFrame'>\n",
      "Int64Index: 1849 entries, 0 to 1918\n",
      "Data columns (total 14 columns):\n",
      " #   Column  Non-Null Count  Dtype  \n",
      "---  ------  --------------  -----  \n",
      " 0   日期      1849 non-null   object \n",
      " 1   收盘价     1849 non-null   float64\n",
      " 2   最高价     1849 non-null   float64\n",
      " 3   最低价     1849 non-null   float64\n",
      " 4   开盘价     1849 non-null   float64\n",
      " 5   前收盘     1849 non-null   float64\n",
      " 6   换手率     1849 non-null   float64\n",
      " 7   成交量     1849 non-null   int64  \n",
      " 8   成交金额    1849 non-null   float64\n",
      " 9   总市值     1849 non-null   float64\n",
      " 10  流通市值    1849 non-null   float64\n",
      " 11  涨跌额     1849 non-null   float64\n",
      " 12  涨跌幅     1849 non-null   float64\n",
      " 13  次日涨跌    1849 non-null   int32  \n",
      "dtypes: float64(11), int32(1), int64(1), object(1)\n",
      "memory usage: 209.5+ KB\n"
     ]
    }
   ],
   "source": [
    "## 通过 .info() 简要可以看到对应一些数据列名，以及NAN缺失信息\n",
    "data.info()"
   ]
  },
  {
   "cell_type": "code",
   "execution_count": 89,
   "metadata": {},
   "outputs": [
    {
     "data": {
      "text/plain": [
       "Index(['日期', '收盘价', '最高价', '最低价', '开盘价', '前收盘', '换手率', '成交量', '成交金额', '总市值',\n",
       "       '流通市值', '涨跌额', '涨跌幅', '次日涨跌'],\n",
       "      dtype='object')"
      ]
     },
     "execution_count": 89,
     "metadata": {},
     "output_type": "execute_result"
    }
   ],
   "source": [
    "## 通过 .columns 查看列名\n",
    "Train_data.columns"
   ]
  },
  {
   "cell_type": "code",
   "execution_count": 90,
   "metadata": {},
   "outputs": [
    {
     "name": "stdout",
     "output_type": "stream",
     "text": [
      "<class 'pandas.core.frame.DataFrame'>\n",
      "Int64Index: 100 entries, 0 to 99\n",
      "Data columns (total 13 columns):\n",
      " #   Column  Non-Null Count  Dtype  \n",
      "---  ------  --------------  -----  \n",
      " 0   日期      100 non-null    object \n",
      " 1   收盘价     100 non-null    float64\n",
      " 2   最高价     100 non-null    float64\n",
      " 3   最低价     100 non-null    float64\n",
      " 4   开盘价     100 non-null    float64\n",
      " 5   前收盘     100 non-null    float64\n",
      " 6   换手率     100 non-null    float64\n",
      " 7   成交量     100 non-null    int64  \n",
      " 8   成交金额    100 non-null    float64\n",
      " 9   总市值     100 non-null    float64\n",
      " 10  流通市值    100 non-null    float64\n",
      " 11  涨跌额     100 non-null    float64\n",
      " 12  涨跌幅     100 non-null    float64\n",
      "dtypes: float64(11), int64(1), object(1)\n",
      "memory usage: 10.9+ KB\n"
     ]
    }
   ],
   "source": [
    "TestA_data.info()"
   ]
  },
  {
   "cell_type": "markdown",
   "metadata": {},
   "source": [
    "#### 3) 数据统计信息浏览"
   ]
  },
  {
   "cell_type": "code",
   "execution_count": 91,
   "metadata": {},
   "outputs": [
    {
     "data": {
      "text/html": [
       "<div>\n",
       "<style scoped>\n",
       "    .dataframe tbody tr th:only-of-type {\n",
       "        vertical-align: middle;\n",
       "    }\n",
       "\n",
       "    .dataframe tbody tr th {\n",
       "        vertical-align: top;\n",
       "    }\n",
       "\n",
       "    .dataframe thead th {\n",
       "        text-align: right;\n",
       "    }\n",
       "</style>\n",
       "<table border=\"1\" class=\"dataframe\">\n",
       "  <thead>\n",
       "    <tr style=\"text-align: right;\">\n",
       "      <th></th>\n",
       "      <th>收盘价</th>\n",
       "      <th>最高价</th>\n",
       "      <th>最低价</th>\n",
       "      <th>开盘价</th>\n",
       "      <th>前收盘</th>\n",
       "      <th>换手率</th>\n",
       "      <th>成交量</th>\n",
       "      <th>成交金额</th>\n",
       "      <th>总市值</th>\n",
       "      <th>流通市值</th>\n",
       "      <th>涨跌额</th>\n",
       "      <th>涨跌幅</th>\n",
       "      <th>次日涨跌</th>\n",
       "    </tr>\n",
       "  </thead>\n",
       "  <tbody>\n",
       "    <tr>\n",
       "      <th>count</th>\n",
       "      <td>1849.000000</td>\n",
       "      <td>1849.000000</td>\n",
       "      <td>1849.000000</td>\n",
       "      <td>1849.000000</td>\n",
       "      <td>1849.000000</td>\n",
       "      <td>1849.000000</td>\n",
       "      <td>1.849000e+03</td>\n",
       "      <td>1.849000e+03</td>\n",
       "      <td>1.849000e+03</td>\n",
       "      <td>1.849000e+03</td>\n",
       "      <td>1849.000000</td>\n",
       "      <td>1849.000000</td>\n",
       "      <td>1849.000000</td>\n",
       "    </tr>\n",
       "    <tr>\n",
       "      <th>mean</th>\n",
       "      <td>45.513499</td>\n",
       "      <td>46.209275</td>\n",
       "      <td>44.774511</td>\n",
       "      <td>45.473521</td>\n",
       "      <td>45.473326</td>\n",
       "      <td>0.785942</td>\n",
       "      <td>2.995183e+07</td>\n",
       "      <td>1.399207e+09</td>\n",
       "      <td>2.729433e+11</td>\n",
       "      <td>2.486347e+11</td>\n",
       "      <td>0.040173</td>\n",
       "      <td>0.137613</td>\n",
       "      <td>0.520281</td>\n",
       "    </tr>\n",
       "    <tr>\n",
       "      <th>std</th>\n",
       "      <td>18.608983</td>\n",
       "      <td>18.910948</td>\n",
       "      <td>18.284698</td>\n",
       "      <td>18.618131</td>\n",
       "      <td>18.616619</td>\n",
       "      <td>0.614002</td>\n",
       "      <td>1.611307e+07</td>\n",
       "      <td>1.003128e+09</td>\n",
       "      <td>1.615397e+11</td>\n",
       "      <td>1.810306e+11</td>\n",
       "      <td>1.135628</td>\n",
       "      <td>2.336867</td>\n",
       "      <td>0.499724</td>\n",
       "    </tr>\n",
       "    <tr>\n",
       "      <th>min</th>\n",
       "      <td>16.570000</td>\n",
       "      <td>16.640000</td>\n",
       "      <td>16.310000</td>\n",
       "      <td>16.470000</td>\n",
       "      <td>16.570000</td>\n",
       "      <td>0.146000</td>\n",
       "      <td>3.048409e+06</td>\n",
       "      <td>1.075016e+08</td>\n",
       "      <td>6.435010e+10</td>\n",
       "      <td>2.618989e+10</td>\n",
       "      <td>-8.810000</td>\n",
       "      <td>-10.000000</td>\n",
       "      <td>0.000000</td>\n",
       "    </tr>\n",
       "    <tr>\n",
       "      <th>25%</th>\n",
       "      <td>29.990000</td>\n",
       "      <td>30.490000</td>\n",
       "      <td>29.540000</td>\n",
       "      <td>29.940000</td>\n",
       "      <td>29.980000</td>\n",
       "      <td>0.402300</td>\n",
       "      <td>1.921104e+07</td>\n",
       "      <td>6.473554e+08</td>\n",
       "      <td>1.300000e+11</td>\n",
       "      <td>6.842204e+10</td>\n",
       "      <td>-0.490000</td>\n",
       "      <td>-1.151400</td>\n",
       "      <td>0.000000</td>\n",
       "    </tr>\n",
       "    <tr>\n",
       "      <th>50%</th>\n",
       "      <td>43.530000</td>\n",
       "      <td>44.420000</td>\n",
       "      <td>42.810000</td>\n",
       "      <td>43.600000</td>\n",
       "      <td>43.430000</td>\n",
       "      <td>0.588900</td>\n",
       "      <td>2.764394e+07</td>\n",
       "      <td>1.204182e+09</td>\n",
       "      <td>2.620000e+11</td>\n",
       "      <td>2.590000e+11</td>\n",
       "      <td>0.040000</td>\n",
       "      <td>0.104900</td>\n",
       "      <td>1.000000</td>\n",
       "    </tr>\n",
       "    <tr>\n",
       "      <th>75%</th>\n",
       "      <td>54.500000</td>\n",
       "      <td>55.150000</td>\n",
       "      <td>53.800000</td>\n",
       "      <td>54.510000</td>\n",
       "      <td>54.470000</td>\n",
       "      <td>0.935600</td>\n",
       "      <td>3.792288e+07</td>\n",
       "      <td>1.866580e+09</td>\n",
       "      <td>3.730000e+11</td>\n",
       "      <td>3.690000e+11</td>\n",
       "      <td>0.570000</td>\n",
       "      <td>1.347200</td>\n",
       "      <td>1.000000</td>\n",
       "    </tr>\n",
       "    <tr>\n",
       "      <th>max</th>\n",
       "      <td>107.110000</td>\n",
       "      <td>108.000000</td>\n",
       "      <td>102.040000</td>\n",
       "      <td>107.120000</td>\n",
       "      <td>107.110000</td>\n",
       "      <td>6.091900</td>\n",
       "      <td>1.367360e+08</td>\n",
       "      <td>9.587929e+09</td>\n",
       "      <td>7.540000e+11</td>\n",
       "      <td>7.460000e+11</td>\n",
       "      <td>5.530000</td>\n",
       "      <td>10.016000</td>\n",
       "      <td>1.000000</td>\n",
       "    </tr>\n",
       "  </tbody>\n",
       "</table>\n",
       "</div>"
      ],
      "text/plain": [
       "               收盘价          最高价          最低价          开盘价          前收盘  \\\n",
       "count  1849.000000  1849.000000  1849.000000  1849.000000  1849.000000   \n",
       "mean     45.513499    46.209275    44.774511    45.473521    45.473326   \n",
       "std      18.608983    18.910948    18.284698    18.618131    18.616619   \n",
       "min      16.570000    16.640000    16.310000    16.470000    16.570000   \n",
       "25%      29.990000    30.490000    29.540000    29.940000    29.980000   \n",
       "50%      43.530000    44.420000    42.810000    43.600000    43.430000   \n",
       "75%      54.500000    55.150000    53.800000    54.510000    54.470000   \n",
       "max     107.110000   108.000000   102.040000   107.120000   107.110000   \n",
       "\n",
       "               换手率           成交量          成交金额           总市值          流通市值  \\\n",
       "count  1849.000000  1.849000e+03  1.849000e+03  1.849000e+03  1.849000e+03   \n",
       "mean      0.785942  2.995183e+07  1.399207e+09  2.729433e+11  2.486347e+11   \n",
       "std       0.614002  1.611307e+07  1.003128e+09  1.615397e+11  1.810306e+11   \n",
       "min       0.146000  3.048409e+06  1.075016e+08  6.435010e+10  2.618989e+10   \n",
       "25%       0.402300  1.921104e+07  6.473554e+08  1.300000e+11  6.842204e+10   \n",
       "50%       0.588900  2.764394e+07  1.204182e+09  2.620000e+11  2.590000e+11   \n",
       "75%       0.935600  3.792288e+07  1.866580e+09  3.730000e+11  3.690000e+11   \n",
       "max       6.091900  1.367360e+08  9.587929e+09  7.540000e+11  7.460000e+11   \n",
       "\n",
       "               涨跌额          涨跌幅         次日涨跌  \n",
       "count  1849.000000  1849.000000  1849.000000  \n",
       "mean      0.040173     0.137613     0.520281  \n",
       "std       1.135628     2.336867     0.499724  \n",
       "min      -8.810000   -10.000000     0.000000  \n",
       "25%      -0.490000    -1.151400     0.000000  \n",
       "50%       0.040000     0.104900     1.000000  \n",
       "75%       0.570000     1.347200     1.000000  \n",
       "max       5.530000    10.016000     1.000000  "
      ]
     },
     "execution_count": 91,
     "metadata": {},
     "output_type": "execute_result"
    }
   ],
   "source": [
    "## 通过 .describe() 可以查看数值特征列的一些统计信息\n",
    "data.describe()"
   ]
  },
  {
   "cell_type": "code",
   "execution_count": 92,
   "metadata": {
    "scrolled": false
   },
   "outputs": [
    {
     "data": {
      "text/html": [
       "<div>\n",
       "<style scoped>\n",
       "    .dataframe tbody tr th:only-of-type {\n",
       "        vertical-align: middle;\n",
       "    }\n",
       "\n",
       "    .dataframe tbody tr th {\n",
       "        vertical-align: top;\n",
       "    }\n",
       "\n",
       "    .dataframe thead th {\n",
       "        text-align: right;\n",
       "    }\n",
       "</style>\n",
       "<table border=\"1\" class=\"dataframe\">\n",
       "  <thead>\n",
       "    <tr style=\"text-align: right;\">\n",
       "      <th></th>\n",
       "      <th>收盘价</th>\n",
       "      <th>最高价</th>\n",
       "      <th>最低价</th>\n",
       "      <th>开盘价</th>\n",
       "      <th>前收盘</th>\n",
       "      <th>换手率</th>\n",
       "      <th>成交量</th>\n",
       "      <th>成交金额</th>\n",
       "      <th>总市值</th>\n",
       "      <th>流通市值</th>\n",
       "      <th>涨跌额</th>\n",
       "      <th>涨跌幅</th>\n",
       "    </tr>\n",
       "  </thead>\n",
       "  <tbody>\n",
       "    <tr>\n",
       "      <th>count</th>\n",
       "      <td>100.000000</td>\n",
       "      <td>100.000000</td>\n",
       "      <td>100.000000</td>\n",
       "      <td>100.000000</td>\n",
       "      <td>100.000000</td>\n",
       "      <td>100.000000</td>\n",
       "      <td>1.000000e+02</td>\n",
       "      <td>1.000000e+02</td>\n",
       "      <td>1.000000e+02</td>\n",
       "      <td>1.000000e+02</td>\n",
       "      <td>100.000000</td>\n",
       "      <td>100.000000</td>\n",
       "    </tr>\n",
       "    <tr>\n",
       "      <th>mean</th>\n",
       "      <td>76.572000</td>\n",
       "      <td>77.758700</td>\n",
       "      <td>75.412000</td>\n",
       "      <td>76.722400</td>\n",
       "      <td>76.716800</td>\n",
       "      <td>0.533350</td>\n",
       "      <td>3.719628e+07</td>\n",
       "      <td>2.814495e+09</td>\n",
       "      <td>5.394800e+11</td>\n",
       "      <td>5.339000e+11</td>\n",
       "      <td>-0.144800</td>\n",
       "      <td>-0.162492</td>\n",
       "    </tr>\n",
       "    <tr>\n",
       "      <th>std</th>\n",
       "      <td>6.091509</td>\n",
       "      <td>6.082985</td>\n",
       "      <td>6.094527</td>\n",
       "      <td>6.169691</td>\n",
       "      <td>6.118397</td>\n",
       "      <td>0.182892</td>\n",
       "      <td>1.277309e+07</td>\n",
       "      <td>8.905697e+08</td>\n",
       "      <td>4.268075e+10</td>\n",
       "      <td>4.206044e+10</td>\n",
       "      <td>1.676124</td>\n",
       "      <td>2.217867</td>\n",
       "    </tr>\n",
       "    <tr>\n",
       "      <th>min</th>\n",
       "      <td>61.400000</td>\n",
       "      <td>63.800000</td>\n",
       "      <td>61.110000</td>\n",
       "      <td>61.400000</td>\n",
       "      <td>61.400000</td>\n",
       "      <td>0.220300</td>\n",
       "      <td>1.534782e+07</td>\n",
       "      <td>1.222574e+09</td>\n",
       "      <td>4.330000e+11</td>\n",
       "      <td>4.290000e+11</td>\n",
       "      <td>-3.830000</td>\n",
       "      <td>-5.071100</td>\n",
       "    </tr>\n",
       "    <tr>\n",
       "      <th>25%</th>\n",
       "      <td>71.437500</td>\n",
       "      <td>72.860000</td>\n",
       "      <td>70.690000</td>\n",
       "      <td>71.750000</td>\n",
       "      <td>71.865000</td>\n",
       "      <td>0.410600</td>\n",
       "      <td>2.863822e+07</td>\n",
       "      <td>2.187185e+09</td>\n",
       "      <td>5.037500e+11</td>\n",
       "      <td>4.980000e+11</td>\n",
       "      <td>-1.372500</td>\n",
       "      <td>-1.650700</td>\n",
       "    </tr>\n",
       "    <tr>\n",
       "      <th>50%</th>\n",
       "      <td>77.785000</td>\n",
       "      <td>79.100000</td>\n",
       "      <td>76.560000</td>\n",
       "      <td>77.580000</td>\n",
       "      <td>77.885000</td>\n",
       "      <td>0.503400</td>\n",
       "      <td>3.508853e+07</td>\n",
       "      <td>2.754210e+09</td>\n",
       "      <td>5.485000e+11</td>\n",
       "      <td>5.425000e+11</td>\n",
       "      <td>-0.220000</td>\n",
       "      <td>-0.273800</td>\n",
       "    </tr>\n",
       "    <tr>\n",
       "      <th>75%</th>\n",
       "      <td>81.550000</td>\n",
       "      <td>82.935000</td>\n",
       "      <td>80.245000</td>\n",
       "      <td>81.885000</td>\n",
       "      <td>81.580000</td>\n",
       "      <td>0.630275</td>\n",
       "      <td>4.394464e+07</td>\n",
       "      <td>3.249718e+09</td>\n",
       "      <td>5.742500e+11</td>\n",
       "      <td>5.682500e+11</td>\n",
       "      <td>0.925000</td>\n",
       "      <td>1.165600</td>\n",
       "    </tr>\n",
       "    <tr>\n",
       "      <th>max</th>\n",
       "      <td>87.110000</td>\n",
       "      <td>88.500000</td>\n",
       "      <td>85.210000</td>\n",
       "      <td>87.160000</td>\n",
       "      <td>87.110000</td>\n",
       "      <td>1.288600</td>\n",
       "      <td>8.999277e+07</td>\n",
       "      <td>6.224743e+09</td>\n",
       "      <td>6.130000e+11</td>\n",
       "      <td>6.070000e+11</td>\n",
       "      <td>4.840000</td>\n",
       "      <td>7.324500</td>\n",
       "    </tr>\n",
       "  </tbody>\n",
       "</table>\n",
       "</div>"
      ],
      "text/plain": [
       "              收盘价         最高价         最低价         开盘价         前收盘         换手率  \\\n",
       "count  100.000000  100.000000  100.000000  100.000000  100.000000  100.000000   \n",
       "mean    76.572000   77.758700   75.412000   76.722400   76.716800    0.533350   \n",
       "std      6.091509    6.082985    6.094527    6.169691    6.118397    0.182892   \n",
       "min     61.400000   63.800000   61.110000   61.400000   61.400000    0.220300   \n",
       "25%     71.437500   72.860000   70.690000   71.750000   71.865000    0.410600   \n",
       "50%     77.785000   79.100000   76.560000   77.580000   77.885000    0.503400   \n",
       "75%     81.550000   82.935000   80.245000   81.885000   81.580000    0.630275   \n",
       "max     87.110000   88.500000   85.210000   87.160000   87.110000    1.288600   \n",
       "\n",
       "                成交量          成交金额           总市值          流通市值         涨跌额  \\\n",
       "count  1.000000e+02  1.000000e+02  1.000000e+02  1.000000e+02  100.000000   \n",
       "mean   3.719628e+07  2.814495e+09  5.394800e+11  5.339000e+11   -0.144800   \n",
       "std    1.277309e+07  8.905697e+08  4.268075e+10  4.206044e+10    1.676124   \n",
       "min    1.534782e+07  1.222574e+09  4.330000e+11  4.290000e+11   -3.830000   \n",
       "25%    2.863822e+07  2.187185e+09  5.037500e+11  4.980000e+11   -1.372500   \n",
       "50%    3.508853e+07  2.754210e+09  5.485000e+11  5.425000e+11   -0.220000   \n",
       "75%    4.394464e+07  3.249718e+09  5.742500e+11  5.682500e+11    0.925000   \n",
       "max    8.999277e+07  6.224743e+09  6.130000e+11  6.070000e+11    4.840000   \n",
       "\n",
       "              涨跌幅  \n",
       "count  100.000000  \n",
       "mean    -0.162492  \n",
       "std      2.217867  \n",
       "min     -5.071100  \n",
       "25%     -1.650700  \n",
       "50%     -0.273800  \n",
       "75%      1.165600  \n",
       "max      7.324500  "
      ]
     },
     "execution_count": 92,
     "metadata": {},
     "output_type": "execute_result"
    }
   ],
   "source": [
    "TestA_data.describe()"
   ]
  },
  {
   "cell_type": "code",
   "execution_count": 93,
   "metadata": {},
   "outputs": [],
   "source": [
    "# import pandas_profiling\n",
    "\n",
    "# pfr = pandas_profiling.ProfileReport(data)\n",
    "# pfr.to_file(\"./example.html\")"
   ]
  },
  {
   "cell_type": "markdown",
   "metadata": {},
   "source": [
    "### Step 3:特征与标签构建"
   ]
  },
  {
   "cell_type": "markdown",
   "metadata": {},
   "source": [
    "#### 1) 提取数值类型和类别特征列名"
   ]
  },
  {
   "cell_type": "code",
   "execution_count": 94,
   "metadata": {},
   "outputs": [
    {
     "name": "stdout",
     "output_type": "stream",
     "text": [
      "Index(['收盘价', '最高价', '最低价', '开盘价', '前收盘', '换手率', '成交量', '成交金额', '总市值', '流通市值',\n",
      "       '涨跌额', '涨跌幅', '次日涨跌'],\n",
      "      dtype='object')\n",
      "Index(['日期'], dtype='object')\n"
     ]
    }
   ],
   "source": [
    "numerical_cols = Train_data.select_dtypes(exclude = 'object').columns\n",
    "print(numerical_cols)\n",
    "categorical_cols = Train_data.select_dtypes(include = 'object').columns\n",
    "print(categorical_cols)"
   ]
  },
  {
   "cell_type": "markdown",
   "metadata": {},
   "source": [
    "#### 2) 构建训练和测试样本"
   ]
  },
  {
   "cell_type": "code",
   "execution_count": 95,
   "metadata": {},
   "outputs": [
    {
     "name": "stdout",
     "output_type": "stream",
     "text": [
      "X train shape: (1749, 12)\n",
      "X test shape: (100, 12)\n"
     ]
    }
   ],
   "source": [
    "## 选择特征列\n",
    "# feature_cols = [col for col in numerical_cols if col not in ['SaleID','name','regDate','creatDate','price','model','brand','regionCode','seller']]\n",
    "# feature_cols = [col for col in feature_cols if 'Type' not in col]\n",
    "\n",
    "# feature_cols = ['日期','收盘价', '最高价', '最低价', '开盘价', '前收盘', '换手率', '成交量', '成交金额', '总市值', '流通市值',\n",
    "#        '涨跌额', '涨跌幅']\n",
    "\n",
    "feature_cols = ['收盘价', '最高价', '最低价', '开盘价', '前收盘', '换手率', '成交量', '成交金额', '总市值', '流通市值',\n",
    "       '涨跌额', '涨跌幅']\n",
    "\n",
    "## 提前特征列，标签列构造训练样本和测试样本\n",
    "X_data = Train_data[feature_cols]\n",
    "Y_data = Train_data['次日涨跌']\n",
    "\n",
    "X_test  = TestA_data[feature_cols]\n",
    "\n",
    "print('X train shape:',X_data.shape)\n",
    "print('X test shape:',X_test.shape)"
   ]
  },
  {
   "cell_type": "code",
   "execution_count": 96,
   "metadata": {},
   "outputs": [],
   "source": [
    "## 定义了一个统计函数，方便后续信息统计\n",
    "def Sta_inf(data):\n",
    "    print('_min',np.min(data))\n",
    "    print('_max:',np.max(data))\n",
    "    print('_mean',np.mean(data))\n",
    "    print('_ptp',np.ptp(data))\n",
    "    print('_std',np.std(data))\n",
    "    print('_var',np.var(data))"
   ]
  },
  {
   "cell_type": "markdown",
   "metadata": {},
   "source": [
    "#### 3) 统计标签的基本分布信息"
   ]
  },
  {
   "cell_type": "code",
   "execution_count": 97,
   "metadata": {},
   "outputs": [
    {
     "name": "stdout",
     "output_type": "stream",
     "text": [
      "Sta of label:\n",
      "_min 0\n",
      "_max: 1\n",
      "_mean 0.5254431103487708\n",
      "_ptp 1\n",
      "_std 0.49935222852789724\n",
      "_var 0.24935264813577732\n"
     ]
    }
   ],
   "source": [
    "print('Sta of label:')\n",
    "Sta_inf(Y_data)\n"
   ]
  },
  {
   "cell_type": "code",
   "execution_count": 98,
   "metadata": {},
   "outputs": [
    {
     "data": {
      "image/png": "[encoded data removed]",
      "text/plain": [
       "<Figure size 432x288 with 1 Axes>"
      ]
     },
     "metadata": {
      "needs_background": "light"
     },
     "output_type": "display_data"
    }
   ],
   "source": [
    "## 绘制标签的统计图，查看标签分布\n",
    "plt.hist(Y_data)\n",
    "plt.show()\n",
    "plt.close()\n"
   ]
  },
  {
   "cell_type": "markdown",
   "metadata": {},
   "source": [
    "#### 4) 缺省值用-1填补"
   ]
  },
  {
   "cell_type": "code",
   "execution_count": 99,
   "metadata": {},
   "outputs": [],
   "source": [
    "X_data = X_data.fillna(-1)\n",
    "X_test = X_test.fillna(-1)"
   ]
  },
  {
   "cell_type": "markdown",
   "metadata": {},
   "source": [
    "### Step 4:模型训练与预测"
   ]
  },
  {
   "cell_type": "markdown",
   "metadata": {},
   "source": [
    "#### 1) 利用xgb进行五折交叉验证查看模型的参数效果"
   ]
  },
  {
   "cell_type": "code",
   "execution_count": 100,
   "metadata": {
    "scrolled": true
   },
   "outputs": [
    {
     "name": "stdout",
     "output_type": "stream",
     "text": [
      "[14:21:35] WARNING: C:/Users/Administrator/workspace/xgboost-win64_release_1.4.0/src/learner.cc:1095: Starting in XGBoost 1.3.0, the default evaluation metric used with the objective 'binary:logistic' was changed from 'error' to 'logloss'. Explicitly set eval_metric if you'd like to restore the old behavior.\n",
      "              precision    recall  f1-score   support\n",
      "\n",
      "           0       0.50      0.47      0.48       166\n",
      "           1       0.54      0.57      0.56       184\n",
      "\n",
      "    accuracy                           0.52       350\n",
      "   macro avg       0.52      0.52      0.52       350\n",
      "weighted avg       0.52      0.52      0.52       350\n",
      "\n",
      "[14:21:35] WARNING: C:/Users/Administrator/workspace/xgboost-win64_release_1.4.0/src/learner.cc:1095: Starting in XGBoost 1.3.0, the default evaluation metric used with the objective 'binary:logistic' was changed from 'error' to 'logloss'. Explicitly set eval_metric if you'd like to restore the old behavior.\n",
      "              precision    recall  f1-score   support\n",
      "\n",
      "           0       0.51      0.52      0.52       166\n",
      "           1       0.56      0.55      0.55       184\n",
      "\n",
      "    accuracy                           0.54       350\n",
      "   macro avg       0.54      0.54      0.54       350\n",
      "weighted avg       0.54      0.54      0.54       350\n",
      "\n",
      "[14:21:35] WARNING: C:/Users/Administrator/workspace/xgboost-win64_release_1.4.0/src/learner.cc:1095: Starting in XGBoost 1.3.0, the default evaluation metric used with the objective 'binary:logistic' was changed from 'error' to 'logloss'. Explicitly set eval_metric if you'd like to restore the old behavior.\n",
      "              precision    recall  f1-score   support\n",
      "\n",
      "           0       0.47      0.46      0.47       166\n",
      "           1       0.53      0.54      0.53       184\n",
      "\n",
      "    accuracy                           0.50       350\n",
      "   macro avg       0.50      0.50      0.50       350\n",
      "weighted avg       0.50      0.50      0.50       350\n",
      "\n",
      "[14:21:35] WARNING: C:/Users/Administrator/workspace/xgboost-win64_release_1.4.0/src/learner.cc:1095: Starting in XGBoost 1.3.0, the default evaluation metric used with the objective 'binary:logistic' was changed from 'error' to 'logloss'. Explicitly set eval_metric if you'd like to restore the old behavior.\n",
      "              precision    recall  f1-score   support\n",
      "\n",
      "           0       0.45      0.39      0.42       166\n",
      "           1       0.51      0.58      0.54       184\n",
      "\n",
      "    accuracy                           0.49       350\n",
      "   macro avg       0.48      0.48      0.48       350\n",
      "weighted avg       0.48      0.49      0.48       350\n",
      "\n",
      "[14:21:35] WARNING: C:/Users/Administrator/workspace/xgboost-win64_release_1.4.0/src/learner.cc:1095: Starting in XGBoost 1.3.0, the default evaluation metric used with the objective 'binary:logistic' was changed from 'error' to 'logloss'. Explicitly set eval_metric if you'd like to restore the old behavior.\n",
      "              precision    recall  f1-score   support\n",
      "\n",
      "           0       0.46      0.45      0.45       166\n",
      "           1       0.51      0.51      0.51       183\n",
      "\n",
      "    accuracy                           0.48       349\n",
      "   macro avg       0.48      0.48      0.48       349\n",
      "weighted avg       0.48      0.48      0.48       349\n",
      "\n",
      "Train acc: 0.985\n",
      "Val acc 0.5071338518215309\n"
     ]
    }
   ],
   "source": [
    "## xgb-Model\n",
    "from sklearn.metrics import classification_report\n",
    "xgr = xgb.XGBClassifier(n_estimators=120, learning_rate=0.1, gamma=0, subsample=0.8,\\\n",
    "        colsample_bytree=0.9, max_depth=7) #,objective ='reg:squarederror'\n",
    "\n",
    "scores_train = []\n",
    "scores = []\n",
    "\n",
    "## 5折交叉验证方式\n",
    "sk=StratifiedKFold(n_splits=5,shuffle=True,random_state=0)\n",
    "for train_ind,val_ind in sk.split(X_data,Y_data):\n",
    "    \n",
    "    train_x=X_data.iloc[train_ind].values\n",
    "    train_y=Y_data.iloc[train_ind]\n",
    "    val_x=X_data.iloc[val_ind].values\n",
    "    val_y=Y_data.iloc[val_ind]\n",
    "    \n",
    "    xgr.fit(train_x,train_y)\n",
    "    pred_train_xgb=xgr.predict(train_x)\n",
    "    pred_xgb=xgr.predict(val_x)\n",
    "    \n",
    "    score_train = accuracy_score(train_y,pred_train_xgb)\n",
    "    scores_train.append(score_train)\n",
    "    score = accuracy_score(val_y,pred_xgb)\n",
    "    scores.append(score)\n",
    "    \n",
    "    print(classification_report(val_y,pred_xgb))\n",
    "\n",
    "subA_lgb = xgr.predict(X_test)\n",
    "print('Train acc:',np.mean(score_train))\n",
    "print('Val acc',np.mean(scores))\n",
    "\n",
    "test_result['预测涨跌'] = subA_lgb\n",
    "test_result.to_csv('./result.csv',encoding='gbk')"
   ]
  },
  {
   "cell_type": "markdown",
   "metadata": {},
   "source": [
    "#### 2） 定义xgb和lgb模型函数"
   ]
  },
  {
   "cell_type": "code",
   "execution_count": 82,
   "metadata": {},
   "outputs": [],
   "source": [
    "def build_model_xgb(x_train,y_train):\n",
    "    model = xgb.XGBClassifier(n_estimators=150, learning_rate=0.1, gamma=0, subsample=0.8,\\\n",
    "        colsample_bytree=0.9, max_depth=7) #, objective ='reg:squarederror'\n",
    "    model.fit(x_train, y_train)\n",
    "    return model\n",
    "\n",
    "def build_model_lgb(x_train,y_train):\n",
    "    estimator = lgb.LGBMClassifier(num_leaves=127,n_estimators = 150)\n",
    "    param_grid = {\n",
    "        'learning_rate': [0.01, 0.05, 0.1, 0.2],\n",
    "    }\n",
    "    gbm = GridSearchCV(estimator, param_grid)\n",
    "    gbm.fit(x_train, y_train)\n",
    "    return gbm"
   ]
  },
  {
   "cell_type": "markdown",
   "metadata": {},
   "source": [
    "#### 3）切分数据集（Train,Val）进行模型训练，评价和预测"
   ]
  },
  {
   "cell_type": "code",
   "execution_count": 83,
   "metadata": {},
   "outputs": [],
   "source": [
    "## Split data with val\n",
    "x_train,x_val,y_train,y_val = train_test_split(X_data,Y_data,test_size=0.3)"
   ]
  },
  {
   "cell_type": "code",
   "execution_count": 84,
   "metadata": {},
   "outputs": [
    {
     "name": "stdout",
     "output_type": "stream",
     "text": [
      "Train lgb...\n",
      "ACC of val with lgb: 0.5273809523809524\n",
      "Predict lgb...\n",
      "Sta of Predict lgb:\n",
      "_min 0\n",
      "_max: 1\n",
      "_mean 0.36\n",
      "_ptp 1\n",
      "_std 0.48\n",
      "_var 0.2304\n"
     ]
    }
   ],
   "source": [
    "print('Train lgb...')\n",
    "model_lgb = build_model_lgb(x_train,y_train)\n",
    "val_lgb = model_lgb.predict(x_val)\n",
    "MAE_lgb = accuracy_score(y_val,val_lgb)\n",
    "print('ACC of val with lgb:',MAE_lgb)\n",
    "\n",
    "print('Predict lgb...')\n",
    "model_lgb_pre = build_model_lgb(X_data,Y_data)\n",
    "subA_lgb = model_lgb_pre.predict(X_test)\n",
    "print('Sta of Predict lgb:')\n",
    "Sta_inf(subA_lgb)\n",
    "\n",
    "test_result['预测涨跌'] = subA_lgb\n",
    "test_result.to_csv('./result_lgb.csv',encoding='gbk')"
   ]
  },
  {
   "cell_type": "code",
   "execution_count": 55,
   "metadata": {},
   "outputs": [
    {
     "name": "stdout",
     "output_type": "stream",
     "text": [
      "Train xgb...\n",
      "[13:32:18] WARNING: C:/Users/Administrator/workspace/xgboost-win64_release_1.4.0/src/learner.cc:1095: Starting in XGBoost 1.3.0, the default evaluation metric used with the objective 'binary:logistic' was changed from 'error' to 'logloss'. Explicitly set eval_metric if you'd like to restore the old behavior.\n",
      "MAE of val with xgb: 0.5011904761904762\n",
      "Predict xgb...\n",
      "[13:32:19] WARNING: C:/Users/Administrator/workspace/xgboost-win64_release_1.4.0/src/learner.cc:1095: Starting in XGBoost 1.3.0, the default evaluation metric used with the objective 'binary:logistic' was changed from 'error' to 'logloss'. Explicitly set eval_metric if you'd like to restore the old behavior.\n",
      "Sta of Predict xgb:\n",
      "_min 0\n",
      "_max: 1\n",
      "_mean 0.36\n",
      "_ptp 1\n",
      "_std 0.48000000000000004\n",
      "_var 0.23040000000000002\n"
     ]
    }
   ],
   "source": [
    "print('Train xgb...')\n",
    "model_xgb = build_model_xgb(x_train,y_train)\n",
    "val_xgb = model_xgb.predict(x_val)\n",
    "MAE_xgb = mean_absolute_error(y_val,val_xgb)\n",
    "print('ACC of val with xgb:',MAE_xgb)\n",
    "\n",
    "print('Predict xgb...')\n",
    "model_xgb_pre = build_model_xgb(X_data,Y_data)\n",
    "subA_xgb = model_xgb_pre.predict(X_test)\n",
    "print('Sta of Predict xgb:')\n",
    "Sta_inf(subA_xgb)\n",
    "\n",
    "test_result['预测涨跌幅'] = subA_xgb\n",
    "test_result.to_csv('./result_xgb.csv',encoding='gbk')"
   ]
  },
  {
   "cell_type": "markdown",
   "metadata": {},
   "source": [
    "#### 4）进行两模型的结果加权融合"
   ]
  },
  {
   "cell_type": "code",
   "execution_count": 84,
   "metadata": {},
   "outputs": [
    {
     "name": "stdout",
     "output_type": "stream",
     "text": [
      "MAE of val with Weighted ensemble: 6.02636627420805\n"
     ]
    }
   ],
   "source": [
    "## 这里我们采取了简单的加权融合的方式\n",
    "val_Weighted = (1-MAE_lgb/(MAE_xgb+MAE_lgb))*val_lgb+(1-MAE_xgb/(MAE_xgb+MAE_lgb))*val_xgb\n",
    "val_Weighted[val_Weighted<0]=10 # 由于我们发现预测的最小值有负数，而真实情况下，price为负是不存在的，由此我们进行对应的后修正\n",
    "print('MAE of val with Weighted ensemble:',mean_absolute_error(y_val,val_Weighted))"
   ]
  },
  {
   "cell_type": "code",
   "execution_count": 85,
   "metadata": {},
   "outputs": [
    {
     "data": {
      "image/png": "[encoded data removed]",
      "text/plain": [
       "<Figure size 432x288 with 1 Axes>"
      ]
     },
     "metadata": {
      "needs_background": "light"
     },
     "output_type": "display_data"
    }
   ],
   "source": [
    "sub_Weighted = (1-MAE_lgb/(MAE_xgb+MAE_lgb))*subA_lgb+(1-MAE_xgb/(MAE_xgb+MAE_lgb))*subA_xgb\n",
    "\n",
    "## 查看预测值的统计情况\n",
    "plt.hist(sub_Weighted)\n",
    "plt.show()\n",
    "plt.close()"
   ]
  },
  {
   "cell_type": "markdown",
   "metadata": {},
   "source": [
    "#### 5）输出结果"
   ]
  },
  {
   "cell_type": "code",
   "execution_count": 40,
   "metadata": {},
   "outputs": [],
   "source": [
    "sub = pd.DataFrame()\n",
    "sub['SaleID'] = TestA_data.SaleID\n",
    "sub['price'] = sub_Weighted\n",
    "sub.to_csv('./sub_Weighted.csv',index=False)"
   ]
  },
  {
   "cell_type": "code",
   "execution_count": 41,
   "metadata": {},
   "outputs": [
    {
     "data": {
      "text/html": [
       "<div>\n",
       "<style scoped>\n",
       "    .dataframe tbody tr th:only-of-type {\n",
       "        vertical-align: middle;\n",
       "    }\n",
       "\n",
       "    .dataframe tbody tr th {\n",
       "        vertical-align: top;\n",
       "    }\n",
       "\n",
       "    .dataframe thead th {\n",
       "        text-align: right;\n",
       "    }\n",
       "</style>\n",
       "<table border=\"1\" class=\"dataframe\">\n",
       "  <thead>\n",
       "    <tr style=\"text-align: right;\">\n",
       "      <th></th>\n",
       "      <th>SaleID</th>\n",
       "      <th>price</th>\n",
       "    </tr>\n",
       "  </thead>\n",
       "  <tbody>\n",
       "    <tr>\n",
       "      <th>0</th>\n",
       "      <td>200000</td>\n",
       "      <td>1177.411350</td>\n",
       "    </tr>\n",
       "    <tr>\n",
       "      <th>1</th>\n",
       "      <td>200001</td>\n",
       "      <td>1806.533808</td>\n",
       "    </tr>\n",
       "    <tr>\n",
       "      <th>2</th>\n",
       "      <td>200002</td>\n",
       "      <td>8560.360662</td>\n",
       "    </tr>\n",
       "    <tr>\n",
       "      <th>3</th>\n",
       "      <td>200003</td>\n",
       "      <td>1346.399612</td>\n",
       "    </tr>\n",
       "    <tr>\n",
       "      <th>4</th>\n",
       "      <td>200004</td>\n",
       "      <td>2074.420147</td>\n",
       "    </tr>\n",
       "  </tbody>\n",
       "</table>\n",
       "</div>"
      ],
      "text/plain": [
       "   SaleID        price\n",
       "0  200000  1177.411350\n",
       "1  200001  1806.533808\n",
       "2  200002  8560.360662\n",
       "3  200003  1346.399612\n",
       "4  200004  2074.420147"
      ]
     },
     "execution_count": 41,
     "metadata": {},
     "output_type": "execute_result"
    }
   ],
   "source": [
    "sub.head()"
   ]
  },
  {
   "cell_type": "code",
   "execution_count": null,
   "metadata": {},
   "outputs": [],
   "source": []
  }
 ],
 "metadata": {
  "kernelspec": {
   "display_name": "Python 3",
   "language": "python",
   "name": "python3"
  },
  "language_info": {
   "codemirror_mode": {
    "name": "ipython",
    "version": 3
   },
   "file_extension": ".py",
   "mimetype": "text/x-python",
   "name": "python",
   "nbconvert_exporter": "python",
   "pygments_lexer": "ipython3",
   "version": "3.7.4"
  }
 },
 "nbformat": 4,
 "nbformat_minor": 2
}
